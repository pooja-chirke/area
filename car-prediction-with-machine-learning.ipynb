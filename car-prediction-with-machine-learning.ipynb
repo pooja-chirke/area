{
 "cells": [
  {
   "cell_type": "markdown",
   "id": "d0275b84",
   "metadata": {
    "papermill": {
     "duration": 0.002427,
     "end_time": "2024-09-07T15:38:37.754110",
     "exception": false,
     "start_time": "2024-09-07T15:38:37.751683",
     "status": "completed"
    },
    "tags": []
   },
   "source": [
    "# CAR PRICE PREDICTION WITH MACHINE LEARNING :-\n",
    "The price of a car depends on a lot of factors like the goodwill of the brand of the car, features of the car, horsepower and the\n",
    " mileage it gives and many more. Car price prediction is one of the major research areas in\n",
    " machine learning. So if you want to learn how to train a car price prediction model then\n",
    " this project is for you."
   ]
  },
  {
   "cell_type": "code",
   "execution_count": 1,
   "id": "8375b6bc",
   "metadata": {
    "execution": {
     "iopub.execute_input": "2024-09-07T15:38:37.759791Z",
     "iopub.status.busy": "2024-09-07T15:38:37.759348Z",
     "iopub.status.idle": "2024-09-07T15:38:39.638205Z",
     "shell.execute_reply": "2024-09-07T15:38:39.637067Z"
    },
    "papermill": {
     "duration": 1.885041,
     "end_time": "2024-09-07T15:38:39.641181",
     "exception": false,
     "start_time": "2024-09-07T15:38:37.756140",
     "status": "completed"
    },
    "tags": []
   },
   "outputs": [],
   "source": [
    "#Importing libraries \n",
    "import pandas as pd\n",
    "from sklearn.model_selection import train_test_split\n",
    "from sklearn.preprocessing import StandardScaler, LabelEncoder\n"
   ]
  }
 ],
 "metadata": {
  "kaggle": {
   "accelerator": "none",
   "dataSources": [
    {
     "datasetId": 5658267,
     "sourceId": 9337409,
     "sourceType": "datasetVersion"
    }
   ],
   "dockerImageVersionId": 30761,
   "isGpuEnabled": false,
   "isInternetEnabled": true,
   "language": "python",
   "sourceType": "notebook"
  },
  "kernelspec": {
   "display_name": "Python 3",
   "language": "python",
   "name": "python3"
  },
  "language_info": {
   "codemirror_mode": {
    "name": "ipython",
    "version": 3
   },
   "file_extension": ".py",
   "mimetype": "text/x-python",
   "name": "python",
   "nbconvert_exporter": "python",
   "pygments_lexer": "ipython3",
   "version": "3.10.14"
  },
  "papermill": {
   "default_parameters": {},
   "duration": 5.518727,
   "end_time": "2024-09-07T15:38:40.265466",
   "environment_variables": {},
   "exception": null,
   "input_path": "__notebook__.ipynb",
   "output_path": "__notebook__.ipynb",
   "parameters": {},
   "start_time": "2024-09-07T15:38:34.746739",
   "version": "2.6.0"
  }
 },
 "nbformat": 4,
 "nbformat_minor": 5
}
